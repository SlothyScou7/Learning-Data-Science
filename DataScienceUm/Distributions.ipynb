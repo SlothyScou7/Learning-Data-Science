{
 "cells": [
  {
   "cell_type": "code",
   "execution_count": 1,
   "metadata": {},
   "outputs": [],
   "source": [
    "import numpy as np"
   ]
  },
  {
   "cell_type": "code",
   "execution_count": 2,
   "metadata": {},
   "outputs": [
    {
     "data": {
      "text/plain": [
       "array([13, 12, 10, 11, 17, 12,  9, 10,  8, 12,  9, 12, 12,  9,  9, 10, 12,\n",
       "        8, 12, 11, 10,  6, 12, 11,  9,  8, 11,  9, 10,  7, 12, 14,  8, 11,\n",
       "        9,  8, 13,  9, 11,  8,  7, 10, 11, 12, 10, 11, 13,  9,  8,  8,  5,\n",
       "        5,  9, 10, 11, 10,  9,  7, 12,  8, 11, 13, 12, 11,  9, 14, 11, 13,\n",
       "       12,  7, 14, 12,  9, 12, 12, 11, 10, 15,  9, 14, 10,  8, 12,  6, 13,\n",
       "       10, 10, 16, 13,  8, 10, 10,  9, 11,  9, 11,  9,  9, 12,  9, 11, 11,\n",
       "        9,  6, 10, 13,  9, 10, 13, 11,  9, 13,  9,  9, 11,  9, 12,  7, 11,\n",
       "       10,  7,  8,  8, 13,  8, 12, 10, 11,  9, 10, 11, 10, 12,  9,  7, 13,\n",
       "        9, 11, 13, 11, 10, 10, 13,  7, 10,  9,  8,  9, 13,  6, 10, 10, 11,\n",
       "        9, 14, 13,  8,  9,  9, 10, 10, 10, 14,  5,  8, 10, 11, 12,  8, 16,\n",
       "       10, 12, 10,  9,  6, 10,  9, 10, 11, 10,  9,  9,  9, 12,  7,  8,  5,\n",
       "        4,  8, 15, 10, 11, 14, 12, 10, 14, 14, 12, 11, 13, 12, 13, 12,  9,\n",
       "       10,  8, 10, 10,  9, 10,  8,  8, 13, 10, 10, 12, 12, 10,  8, 10, 10,\n",
       "        9, 12, 11, 12, 11, 13, 10, 14, 12, 11, 13,  9, 10,  7, 11,  6,  9,\n",
       "       10, 10, 11,  9, 10, 15, 11,  8, 10, 11, 11,  6, 12, 12, 10,  7, 10,\n",
       "       12,  9,  7,  8,  9,  8,  7, 10,  9, 12, 10, 10,  8,  7,  7, 11,  9,\n",
       "       16, 10, 12,  5, 12, 10,  8, 13,  9, 10, 13, 10,  9, 11, 10, 13,  6,\n",
       "        9,  4, 11, 10, 13,  7, 12,  9, 10, 10, 10,  8,  9, 13,  8,  7,  9,\n",
       "       12,  8, 12, 13,  9, 10,  8, 11, 12, 11, 10,  9, 13, 13, 11, 11,  9,\n",
       "        6, 10, 10,  9, 10, 11,  9, 10, 10,  6,  7, 10,  7,  8,  8, 14, 14,\n",
       "       10, 12, 11, 11, 12,  7, 11,  9,  9,  7, 10, 10, 12, 11, 11, 12, 11,\n",
       "       12,  8, 10, 11,  9, 11, 11, 10, 11, 11, 11,  9, 10, 11, 10,  8,  9,\n",
       "       12,  9, 10,  8,  8, 10,  9, 11,  6, 10, 12, 13,  9, 10, 12, 14,  9,\n",
       "        9, 11, 12,  9, 15,  6, 11, 10, 13,  8, 12,  9, 12, 10, 11,  8, 10,\n",
       "        9, 12, 12, 11, 11, 15,  9,  9,  9, 10, 11,  9,  7, 12,  7, 12, 13,\n",
       "       12, 13,  8, 13,  7, 12, 12,  8,  9,  9, 10,  6, 10,  9,  9,  9, 10,\n",
       "       14, 12,  8, 11, 12,  8, 11, 11,  8,  8,  9, 10,  9,  5, 10, 10,  8,\n",
       "        8,  7,  8, 11,  9,  9,  8, 10, 14, 10,  9, 10,  6, 10, 11,  9,  7,\n",
       "       12, 13,  9,  8, 10, 11, 12, 13,  9,  9,  8, 11, 12,  6, 10, 11, 14,\n",
       "        9,  5, 10, 11, 10,  8,  8,  9, 11,  7, 12, 11,  8, 11, 11,  9, 11,\n",
       "       10, 14, 12, 13,  6,  8,  5, 10, 13,  7, 14, 10, 10, 11,  8,  8, 12,\n",
       "       10, 10, 14,  8, 12, 14, 13,  8, 11, 11,  6, 13, 10,  8, 10, 12, 12,\n",
       "        6, 13, 10,  8,  9, 10,  6, 13,  5,  9, 10, 13, 13,  9, 14,  7,  9,\n",
       "       11, 13, 12,  8, 10, 13,  8,  8,  5, 12,  8, 10,  9,  8, 15, 10,  9,\n",
       "        9, 10,  7, 11, 13, 11, 10,  5, 10,  7, 11, 11,  6,  8, 13,  8, 10,\n",
       "        9, 15,  7, 12,  8, 10, 11, 11,  9, 13,  7, 11, 12,  7, 11,  9,  7,\n",
       "       13,  8, 10,  8, 13, 10, 14, 15,  8,  7, 11,  9,  3,  9, 12,  8, 11,\n",
       "        6, 11, 11,  6, 11, 13, 11,  9,  9, 11, 12,  9,  7,  5, 11,  5, 12,\n",
       "       10, 14,  9, 10, 12,  7,  6, 14, 13, 11, 12, 10,  8,  8, 10,  9, 12,\n",
       "       13,  8, 12, 10,  7,  7,  8, 11, 13, 10,  9, 11,  7,  9,  4, 10,  9,\n",
       "        9,  7,  8,  8, 10, 10,  8,  9, 13,  9, 11,  8, 10,  8,  9, 15, 12,\n",
       "       12,  9, 12,  9,  8,  8, 12,  9,  9, 13, 10, 12,  7,  8, 10,  8,  9,\n",
       "       13, 10, 10, 10,  7,  7,  8, 11,  7,  9, 10, 13, 11,  9,  5, 11,  6,\n",
       "       11,  8, 11,  8, 14, 10,  6,  5,  7, 12,  9, 11,  9, 10, 11, 11,  9,\n",
       "       10,  4, 13,  8, 11, 10,  8, 18, 10, 14, 10, 12, 11, 10, 11,  8, 10,\n",
       "       12,  8,  8,  9, 11,  9,  9,  5, 11,  7, 11, 12,  5, 12,  9, 10, 15,\n",
       "        8, 14, 11,  9, 11, 10, 12, 12, 11,  9,  5,  8, 13, 12,  8, 11, 11,\n",
       "        5,  6, 12,  8, 10,  9, 10,  8,  9, 11,  9, 12, 11,  9,  6,  8,  9,\n",
       "       14, 14, 11, 11,  8, 12, 12, 10, 10, 10,  9, 11, 11, 10, 10,  8, 12,\n",
       "       13, 11,  9, 12, 11,  8,  4, 11, 12,  8,  9, 11, 10, 10, 10,  9, 13,\n",
       "        9, 12,  4,  9, 10,  6, 14, 10,  9, 12,  9,  9, 12, 11,  9, 10,  8,\n",
       "        9,  6, 11, 10, 10,  9, 11, 13,  9, 16,  9,  8,  8, 10, 13, 10, 10,\n",
       "       11,  9,  9,  6, 11, 10,  9, 12, 10, 11, 11,  8,  7, 11,  9, 10, 11,\n",
       "        5, 11, 10, 12,  7,  8, 11, 12, 13, 12,  9, 10, 10, 13,  7,  6, 11,\n",
       "       10, 12, 10, 10, 11, 10,  9,  9,  8,  7, 10, 11, 13, 12,  8,  7, 10,\n",
       "       11, 11,  6,  6,  8, 11, 12, 11, 10, 13,  8,  9, 11, 15,  7, 10, 14,\n",
       "        8, 11, 11, 11,  8,  9, 14, 11,  6,  8,  8, 13,  9,  4, 10, 10, 11,\n",
       "       10, 11, 12, 10, 15, 11, 10, 11,  8,  8,  9,  9,  9, 12, 10, 14,  9,\n",
       "       11,  8, 14,  8,  8, 13, 12, 10, 13, 10,  8,  9, 10, 10])"
      ]
     },
     "execution_count": 2,
     "metadata": {},
     "output_type": "execute_result"
    }
   ],
   "source": [
    "# 20 coins were taken with a probability of 0.5 of heads and the test was performed 1000 times \n",
    "np.random.binomial(20,0.5,1000)\n"
   ]
  },
  {
   "cell_type": "code",
   "execution_count": 6,
   "metadata": {},
   "outputs": [
    {
     "data": {
      "text/plain": [
       "array([ 1.39984589,  0.78826355, -0.20018731, -0.91351594,  1.00726406,\n",
       "        0.38488798,  1.83902081,  0.54180623,  1.05585018,  0.02156164,\n",
       "        0.64435685,  0.11561494,  1.5861752 , -0.0626262 ,  0.07743771,\n",
       "       -0.97498494,  0.62530296, -0.33994306,  1.32092344,  0.60795823,\n",
       "        1.51676387,  0.99644625,  0.10724331, -0.494205  ,  2.36562271,\n",
       "        2.11165049, -0.37314331,  1.14602596,  0.92956637,  1.47551579,\n",
       "        1.27012018, -0.65754203,  0.91550852,  0.46041658,  0.6717452 ,\n",
       "        1.15135374, -0.06023571,  0.33594805,  0.36839009,  2.19967721,\n",
       "        0.15337608, -0.68923931, -1.41030843,  0.93884699, -1.07211885,\n",
       "        1.34058507,  1.90670351, -0.06666798,  1.2584301 ,  0.25872057,\n",
       "        0.93622394,  1.30015526,  0.20643081,  1.7306253 ,  1.31044302,\n",
       "        1.48052008,  2.65247696,  1.3423052 , -0.43596862,  2.2077848 ,\n",
       "        0.47820798,  0.6764194 ,  0.87478815, -0.19962828, -1.89960285,\n",
       "        1.85226595, -0.83474276,  1.74304769,  0.02340261, -0.29943406,\n",
       "        0.46771587,  0.05662969,  0.31506508, -0.04323879, -0.47091466,\n",
       "        0.79385578, -0.24183234,  0.40080079,  1.14628625,  1.21757177,\n",
       "        1.43552723,  0.91432654,  2.68165598,  2.74395658,  1.54549011,\n",
       "        0.99733542,  1.92310333,  1.04176632,  1.50257186,  0.50921995,\n",
       "       -0.57621418,  2.35127383,  2.07971856,  0.00409322,  0.6342789 ,\n",
       "        0.29899596, -1.00413794,  0.76518863,  1.99766577, -0.17254019])"
      ]
     },
     "execution_count": 6,
     "metadata": {},
     "output_type": "execute_result"
    }
   ],
   "source": [
    "np.random.normal(0.75,size=100)"
   ]
  },
  {
   "cell_type": "code",
   "execution_count": 44,
   "metadata": {},
   "outputs": [
    {
     "data": {
      "text/plain": [
       "[<matplotlib.lines.Line2D at 0x7f410cadbe80>]"
      ]
     },
     "execution_count": 44,
     "metadata": {},
     "output_type": "execute_result"
    },
    {
     "data": {
      "image/png": "[encoded data removed]",
      "text/plain": [
       "<Figure size 432x288 with 1 Axes>"
      ]
     },
     "metadata": {
      "needs_background": "light"
     },
     "output_type": "display_data"
    }
   ],
   "source": [
    "import matplotlib.pyplot as plt\n",
    "a = np.random.normal(0,size=10)\n",
    "plt.plot(a)"
   ]
  }
 ],
 "metadata": {
  "kernelspec": {
   "display_name": "Python 3",
   "language": "python",
   "name": "python3"
  },
  "language_info": {
   "codemirror_mode": {
    "name": "ipython",
    "version": 3
   },
   "file_extension": ".py",
   "mimetype": "text/x-python",
   "name": "python",
   "nbconvert_exporter": "python",
   "pygments_lexer": "ipython3",
   "version": "3.6.9"
  }
 },
 "nbformat": 4,
 "nbformat_minor": 4
}
