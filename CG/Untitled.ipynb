{
 "cells": [
  {
   "cell_type": "code",
   "execution_count": 1,
   "metadata": {},
   "outputs": [],
   "source": [
    "import pandas as pd"
   ]
  },
  {
   "cell_type": "code",
   "execution_count": 2,
   "metadata": {},
   "outputs": [],
   "source": [
    "df_1 = pd.read_csv(\"Resonses1.csv\")\n",
    "df_2 = pd.read_csv(\"Responses2.csv\")"
   ]
  },
  {
   "cell_type": "code",
   "execution_count": 3,
   "metadata": {},
   "outputs": [],
   "source": [
    "df = df_1.append(df_2)"
   ]
  },
  {
   "cell_type": "code",
   "execution_count": 4,
   "metadata": {
    "scrolled": true
   },
   "outputs": [
    {
     "name": "stdout",
     "output_type": "stream",
     "text": [
      "   IA    Score     Full Name:   Class Roll Number\n",
      "0 NaN  23 / 25         Stuti                  601\n",
      "1 NaN  21 / 25    Sonali Dabas                234\n",
      "2 NaN  21 / 25        UJJWAL R                964\n",
      "3 NaN  25 / 25  Pooja santhosh                235\n",
      "4 NaN  17 / 25          Himani                440\n"
     ]
    }
   ],
   "source": [
    "dataset =  df[[\"IA\",\"Score\",\"Full Name: \",\"Class Roll Number\"]]\n",
    "print(dataset.head())\n",
    "dataset = dataset.sort_values(by='Class Roll Number')\n",
    "dataset = dataset.set_index(['Full Name: '])\n"
   ]
  },
  {
   "cell_type": "code",
   "execution_count": 5,
   "metadata": {},
   "outputs": [
    {
     "data": {
      "text/html": [
       "<div>\n",
       "<style scoped>\n",
       "    .dataframe tbody tr th:only-of-type {\n",
       "        vertical-align: middle;\n",
       "    }\n",
       "\n",
       "    .dataframe tbody tr th {\n",
       "        vertical-align: top;\n",
       "    }\n",
       "\n",
       "    .dataframe thead th {\n",
       "        text-align: right;\n",
       "    }\n",
       "</style>\n",
       "<table border=\"1\" class=\"dataframe\">\n",
       "  <thead>\n",
       "    <tr style=\"text-align: right;\">\n",
       "      <th></th>\n",
       "      <th>Full Name:</th>\n",
       "      <th>IA</th>\n",
       "      <th>Score</th>\n",
       "      <th>Class Roll Number</th>\n",
       "    </tr>\n",
       "  </thead>\n",
       "  <tbody>\n",
       "    <tr>\n",
       "      <th>0</th>\n",
       "      <td>Shreya Das</td>\n",
       "      <td>NaN</td>\n",
       "      <td>25 / 25</td>\n",
       "      <td>40</td>\n",
       "    </tr>\n",
       "    <tr>\n",
       "      <th>1</th>\n",
       "      <td>Lakita khidtta</td>\n",
       "      <td>NaN</td>\n",
       "      <td>23 / 25</td>\n",
       "      <td>51</td>\n",
       "    </tr>\n",
       "    <tr>\n",
       "      <th>2</th>\n",
       "      <td>Pooja jayaraj</td>\n",
       "      <td>NaN</td>\n",
       "      <td>23 / 25</td>\n",
       "      <td>108</td>\n",
       "    </tr>\n",
       "    <tr>\n",
       "      <th>3</th>\n",
       "      <td>Pema Tanwar</td>\n",
       "      <td>NaN</td>\n",
       "      <td>23 / 25</td>\n",
       "      <td>129</td>\n",
       "    </tr>\n",
       "    <tr>\n",
       "      <th>4</th>\n",
       "      <td>Ananya singh</td>\n",
       "      <td>NaN</td>\n",
       "      <td>23 / 25</td>\n",
       "      <td>137</td>\n",
       "    </tr>\n",
       "  </tbody>\n",
       "</table>\n",
       "</div>"
      ],
      "text/plain": [
       "      Full Name:   IA    Score  Class Roll Number\n",
       "0      Shreya Das NaN  25 / 25                 40\n",
       "1  Lakita khidtta NaN  23 / 25                 51\n",
       "2   Pooja jayaraj NaN  23 / 25                108\n",
       "3     Pema Tanwar NaN  23 / 25                129\n",
       "4    Ananya singh NaN  23 / 25                137"
      ]
     },
     "execution_count": 5,
     "metadata": {},
     "output_type": "execute_result"
    }
   ],
   "source": [
    "dataset.head()\n",
    "dataset = dataset.reset_index()\n",
    "dataset.head()\n",
    "# dataset = dataset.drop(columns=['index','level_0'])"
   ]
  },
  {
   "cell_type": "code",
   "execution_count": 6,
   "metadata": {},
   "outputs": [],
   "source": [
    "list_column = dataset.columns.values\n",
    "df = pd.DataFrame(columns = list_column)\n",
    "df['Full Name: ']=['Raghav']\n",
    "df.head()\n",
    "\n",
    "df.loc[0] = dataset.loc[dataset['Class Roll Number'].idxmax()]\n",
    "df.loc[1]= dataset.loc[dataset['Class Roll Number'].idxmin()]"
   ]
  },
  {
   "cell_type": "code",
   "execution_count": 7,
   "metadata": {},
   "outputs": [
    {
     "data": {
      "text/html": [
       "<div>\n",
       "<style scoped>\n",
       "    .dataframe tbody tr th:only-of-type {\n",
       "        vertical-align: middle;\n",
       "    }\n",
       "\n",
       "    .dataframe tbody tr th {\n",
       "        vertical-align: top;\n",
       "    }\n",
       "\n",
       "    .dataframe thead th {\n",
       "        text-align: right;\n",
       "    }\n",
       "</style>\n",
       "<table border=\"1\" class=\"dataframe\">\n",
       "  <thead>\n",
       "    <tr style=\"text-align: right;\">\n",
       "      <th></th>\n",
       "      <th>Full Name:</th>\n",
       "      <th>IA</th>\n",
       "      <th>Score</th>\n",
       "      <th>Class Roll Number</th>\n",
       "    </tr>\n",
       "  </thead>\n",
       "  <tbody>\n",
       "    <tr>\n",
       "      <th>0</th>\n",
       "      <td>HIMANSHU SHARMA</td>\n",
       "      <td>NaN</td>\n",
       "      <td>13 / 25</td>\n",
       "      <td>1628</td>\n",
       "    </tr>\n",
       "    <tr>\n",
       "      <th>1</th>\n",
       "      <td>Shreya Das</td>\n",
       "      <td>NaN</td>\n",
       "      <td>25 / 25</td>\n",
       "      <td>40</td>\n",
       "    </tr>\n",
       "  </tbody>\n",
       "</table>\n",
       "</div>"
      ],
      "text/plain": [
       "       Full Name:    IA    Score Class Roll Number\n",
       "0  HIMANSHU SHARMA  NaN  13 / 25              1628\n",
       "1       Shreya Das  NaN  25 / 25                40"
      ]
     },
     "execution_count": 7,
     "metadata": {},
     "output_type": "execute_result"
    }
   ],
   "source": [
    "df.head()"
   ]
  },
  {
   "cell_type": "code",
   "execution_count": 8,
   "metadata": {},
   "outputs": [
    {
     "data": {
      "text/html": [
       "<div>\n",
       "<style scoped>\n",
       "    .dataframe tbody tr th:only-of-type {\n",
       "        vertical-align: middle;\n",
       "    }\n",
       "\n",
       "    .dataframe tbody tr th {\n",
       "        vertical-align: top;\n",
       "    }\n",
       "\n",
       "    .dataframe thead th {\n",
       "        text-align: right;\n",
       "    }\n",
       "</style>\n",
       "<table border=\"1\" class=\"dataframe\">\n",
       "  <thead>\n",
       "    <tr style=\"text-align: right;\">\n",
       "      <th></th>\n",
       "      <th>Full Name:</th>\n",
       "      <th>IA</th>\n",
       "      <th>Score</th>\n",
       "      <th>Class Roll Number</th>\n",
       "    </tr>\n",
       "  </thead>\n",
       "  <tbody>\n",
       "    <tr>\n",
       "      <th>0</th>\n",
       "      <td>Shreya Das</td>\n",
       "      <td>NaN</td>\n",
       "      <td>25 / 25</td>\n",
       "      <td>40</td>\n",
       "    </tr>\n",
       "  </tbody>\n",
       "</table>\n",
       "</div>"
      ],
      "text/plain": [
       "  Full Name:   IA    Score  Class Roll Number\n",
       "0  Shreya Das NaN  25 / 25                 40"
      ]
     },
     "execution_count": 8,
     "metadata": {},
     "output_type": "execute_result"
    }
   ],
   "source": [
    "value = (dataset[\"Class Roll Number\"]==40)\n",
    "# this returns a series where this statement is true or false \n",
    "we are printing the value \n",
    "dataset[value].head()\n"
   ]
  },
  {
   "cell_type": "code",
   "execution_count": 9,
   "metadata": {},
   "outputs": [
    {
     "data": {
      "text/html": [
       "<div>\n",
       "<style scoped>\n",
       "    .dataframe tbody tr th:only-of-type {\n",
       "        vertical-align: middle;\n",
       "    }\n",
       "\n",
       "    .dataframe tbody tr th {\n",
       "        vertical-align: top;\n",
       "    }\n",
       "\n",
       "    .dataframe thead th {\n",
       "        text-align: right;\n",
       "    }\n",
       "</style>\n",
       "<table border=\"1\" class=\"dataframe\">\n",
       "  <thead>\n",
       "    <tr style=\"text-align: right;\">\n",
       "      <th></th>\n",
       "      <th>Full Name:</th>\n",
       "      <th>IA</th>\n",
       "      <th>Score</th>\n",
       "      <th>Class Roll Number</th>\n",
       "    </tr>\n",
       "  </thead>\n",
       "  <tbody>\n",
       "    <tr>\n",
       "      <th>0</th>\n",
       "      <td>Shreya Das</td>\n",
       "      <td>NaN</td>\n",
       "      <td>25 / 25</td>\n",
       "      <td>40</td>\n",
       "    </tr>\n",
       "    <tr>\n",
       "      <th>1</th>\n",
       "      <td>Lakita khidtta</td>\n",
       "      <td>NaN</td>\n",
       "      <td>23 / 25</td>\n",
       "      <td>51</td>\n",
       "    </tr>\n",
       "    <tr>\n",
       "      <th>2</th>\n",
       "      <td>Pooja jayaraj</td>\n",
       "      <td>NaN</td>\n",
       "      <td>23 / 25</td>\n",
       "      <td>108</td>\n",
       "    </tr>\n",
       "    <tr>\n",
       "      <th>3</th>\n",
       "      <td>Pema Tanwar</td>\n",
       "      <td>NaN</td>\n",
       "      <td>23 / 25</td>\n",
       "      <td>129</td>\n",
       "    </tr>\n",
       "    <tr>\n",
       "      <th>4</th>\n",
       "      <td>Ananya singh</td>\n",
       "      <td>NaN</td>\n",
       "      <td>23 / 25</td>\n",
       "      <td>137</td>\n",
       "    </tr>\n",
       "  </tbody>\n",
       "</table>\n",
       "</div>"
      ],
      "text/plain": [
       "      Full Name:   IA    Score  Class Roll Number\n",
       "0      Shreya Das NaN  25 / 25                 40\n",
       "1  Lakita khidtta NaN  23 / 25                 51\n",
       "2   Pooja jayaraj NaN  23 / 25                108\n",
       "3     Pema Tanwar NaN  23 / 25                129\n",
       "4    Ananya singh NaN  23 / 25                137"
      ]
     },
     "execution_count": 9,
     "metadata": {},
     "output_type": "execute_result"
    }
   ],
   "source": [
    "dataset.head()"
   ]
  },
  {
   "cell_type": "code",
   "execution_count": null,
   "metadata": {},
   "outputs": [],
   "source": []
  },
  {
   "cell_type": "code",
   "execution_count": 10,
   "metadata": {},
   "outputs": [
    {
     "data": {
      "text/html": [
       "<div>\n",
       "<style scoped>\n",
       "    .dataframe tbody tr th:only-of-type {\n",
       "        vertical-align: middle;\n",
       "    }\n",
       "\n",
       "    .dataframe tbody tr th {\n",
       "        vertical-align: top;\n",
       "    }\n",
       "\n",
       "    .dataframe thead th {\n",
       "        text-align: right;\n",
       "    }\n",
       "</style>\n",
       "<table border=\"1\" class=\"dataframe\">\n",
       "  <thead>\n",
       "    <tr style=\"text-align: right;\">\n",
       "      <th></th>\n",
       "      <th>Full Name:</th>\n",
       "      <th>IA</th>\n",
       "      <th>Score</th>\n",
       "      <th>Class Roll Number</th>\n",
       "    </tr>\n",
       "  </thead>\n",
       "  <tbody>\n",
       "    <tr>\n",
       "      <th>0</th>\n",
       "      <td>HIMANSHU SHARMA</td>\n",
       "      <td>NaN</td>\n",
       "      <td>13 / 25</td>\n",
       "      <td>1628</td>\n",
       "    </tr>\n",
       "    <tr>\n",
       "      <th>1</th>\n",
       "      <td>NaN</td>\n",
       "      <td>NaN</td>\n",
       "      <td>NaN</td>\n",
       "      <td>NaN</td>\n",
       "    </tr>\n",
       "  </tbody>\n",
       "</table>\n",
       "</div>"
      ],
      "text/plain": [
       "       Full Name:    IA    Score Class Roll Number\n",
       "0  HIMANSHU SHARMA  NaN  13 / 25              1628\n",
       "1              NaN  NaN      NaN               NaN"
      ]
     },
     "execution_count": 10,
     "metadata": {},
     "output_type": "execute_result"
    }
   ],
   "source": [
    "df.where(df['Class Roll Number']==1628)"
   ]
  }
 ],
 "metadata": {
  "kernelspec": {
   "display_name": "Python 3",
   "language": "python",
   "name": "python3"
  },
  "language_info": {
   "codemirror_mode": {
    "name": "ipython",
    "version": 3
   },
   "file_extension": ".py",
   "mimetype": "text/x-python",
   "name": "python",
   "nbconvert_exporter": "python",
   "pygments_lexer": "ipython3",
   "version": "3.6.9"
  }
 },
 "nbformat": 4,
 "nbformat_minor": 4
}
